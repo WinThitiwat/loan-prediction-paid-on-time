{
 "cells": [
  {
   "cell_type": "markdown",
   "metadata": {},
   "source": [
    "# Notes:\n",
    "\n",
    "Check out `NOTEBOOK - Data Cleaning` to see cleaning and preparing dataset processes that contains data on loans made to members of [Lending Club](https://www.lendingclub.com)\n",
    "\n",
    "Our eventual goal is to generate features from the data, which can feed into a machine learning algorithm. The algorithm will make predictions about whether or not a loan will be paid off on time, which is contained in the `loan_status` column of the clean dataset."
   ]
  },
  {
   "cell_type": "markdown",
   "metadata": {},
   "source": [
    "# Loading cleaned dataset"
   ]
  },
  {
   "cell_type": "code",
   "execution_count": 2,
   "metadata": {},
   "outputs": [
    {
     "name": "stdout",
     "output_type": "stream",
     "text": [
      "<class 'pandas.core.frame.DataFrame'>\n",
      "RangeIndex: 37675 entries, 0 to 37674\n",
      "Data columns (total 38 columns):\n",
      "loan_amnt                              37675 non-null float64\n",
      "int_rate                               37675 non-null float64\n",
      "installment                            37675 non-null float64\n",
      "emp_length                             37675 non-null int64\n",
      "annual_inc                             37675 non-null float64\n",
      "loan_status                            37675 non-null int64\n",
      "dti                                    37675 non-null float64\n",
      "delinq_2yrs                            37675 non-null float64\n",
      "inq_last_6mths                         37675 non-null float64\n",
      "open_acc                               37675 non-null float64\n",
      "pub_rec                                37675 non-null float64\n",
      "revol_bal                              37675 non-null float64\n",
      "revol_util                             37675 non-null float64\n",
      "total_acc                              37675 non-null float64\n",
      "home_ownership_MORTGAGE                37675 non-null int64\n",
      "home_ownership_NONE                    37675 non-null int64\n",
      "home_ownership_OTHER                   37675 non-null int64\n",
      "home_ownership_OWN                     37675 non-null int64\n",
      "home_ownership_RENT                    37675 non-null int64\n",
      "verification_status_Not Verified       37675 non-null int64\n",
      "verification_status_Source Verified    37675 non-null int64\n",
      "verification_status_Verified           37675 non-null int64\n",
      "purpose_car                            37675 non-null int64\n",
      "purpose_credit_card                    37675 non-null int64\n",
      "purpose_debt_consolidation             37675 non-null int64\n",
      "purpose_educational                    37675 non-null int64\n",
      "purpose_home_improvement               37675 non-null int64\n",
      "purpose_house                          37675 non-null int64\n",
      "purpose_major_purchase                 37675 non-null int64\n",
      "purpose_medical                        37675 non-null int64\n",
      "purpose_moving                         37675 non-null int64\n",
      "purpose_other                          37675 non-null int64\n",
      "purpose_renewable_energy               37675 non-null int64\n",
      "purpose_small_business                 37675 non-null int64\n",
      "purpose_vacation                       37675 non-null int64\n",
      "purpose_wedding                        37675 non-null int64\n",
      "term_ 36 months                        37675 non-null int64\n",
      "term_ 60 months                        37675 non-null int64\n",
      "dtypes: float64(12), int64(26)\n",
      "memory usage: 10.9 MB\n",
      "None\n"
     ]
    }
   ],
   "source": [
    "import pandas as pd\n",
    "\n",
    "loans = pd.read_csv(\"cleaned_loans_2007.csv\")\n",
    "\n",
    "print(loans.info())"
   ]
  },
  {
   "cell_type": "markdown",
   "metadata": {},
   "source": [
    "# Selecting an Error Metric\n",
    "\n",
    "**Can we build a machine learning model that can accurately predict if a borrower will pay off their loan on time or not?\"**\n",
    "\n",
    "| Actual Loan Status | Prediction | Error Type     |\n",
    "| ------------------ |:----------:| --------------:|\n",
    "|     0              | 1          | False Positive |\n",
    "|     1              | 1          | True Positive  |\n",
    "|     0              | 0          | True Negative  |\n",
    "|     1              | 0          | False Negative |\n",
    "\n",
    "With a false positive, we predict that a loan will be paid off on time, but it actually isn't. This costs us money, since we fund loans that lose us money. With a false negative, we predict that a loan won't be paid off on time, but it actually would be paid off on time. This loses us potential money, since we didn't fund a loan that actually would have been paid off\n",
    "\n",
    "A conservative investor would want to minimize risk, and avoid funding a risky loan (false positives) as much as possible while they'd be more okay with missing out on opportunities (false negatives). So, in this case, we're primarily concerned with **false positives**.\n",
    "\n"
   ]
  },
  {
   "cell_type": "markdown",
   "metadata": {},
   "source": [
    "# Class Imbalance\n",
    "\n",
    "We have to take the `loan_status` column into account as well in terms of class imbalance. There are 6 times as many loans that were paid off on time (1), than loans that weren't paid off on time (0) [see the codes below where]"
   ]
  },
  {
   "cell_type": "code",
   "execution_count": 3,
   "metadata": {},
   "outputs": [
    {
     "data": {
      "text/plain": [
       "1    32286\n",
       "0     5389\n",
       "Name: loan_status, dtype: int64"
      ]
     },
     "execution_count": 3,
     "metadata": {},
     "output_type": "execute_result"
    }
   ],
   "source": [
    "loans[\"loan_status\"].value_counts()"
   ]
  },
  {
   "cell_type": "markdown",
   "metadata": {},
   "source": [
    "This causes a major issue when we use accuracy as a metric. This is because due to the class imbalance, a classifier can predict 1 for every row, and still have high accuracy. \n",
    "\n",
    "* Example to explain the issue:\n",
    "\n",
    "| Actual Loan Status | Prediction | Profit/loss    |\n",
    "| ------------------ |:----------:| --------------:|\n",
    "|     0              | 1          |   -1000        |\n",
    "|     1              | 1          | 100            |\n",
    "|     1              | 1          | 100            |\n",
    "|     1              | 1          | 100            |\n",
    "|     1              | 1          | 100            |\n",
    "|     1              | 1          | 100            |\n",
    "|     1              | 1          | 100            |\n",
    "\n",
    "Our predictions are `87.5%` accurate (# of correct prediction, which is 6 divided by total number of prediction, which is 7). We've correctly identified `loan_status` in `87.5%` of classes. \n",
    "\n",
    "However, even though out model is technically accurate, in which we made `600` dollars in interest from the borrowers that paid us back, we lost `1000` dollars on the borrower who never paid us back. As a result, we ended up losing `400` dollars overall.\n"
   ]
  },
  {
   "cell_type": "markdown",
   "metadata": {},
   "source": [
    "# First Prediction - Logistic Regression\n",
    "\n",
    "Let's try a good first algorithm to apply binary classification problem, which is `Logistic Regression` to give us an overview prediction for the current dataset."
   ]
  },
  {
   "cell_type": "code",
   "execution_count": 4,
   "metadata": {},
   "outputs": [
    {
     "name": "stdout",
     "output_type": "stream",
     "text": [
      "1    37616\n",
      "0       59\n",
      "dtype: int64 \n",
      "----\n",
      "First 10 prediction result: 0    1\n",
      "1    1\n",
      "2    1\n",
      "3    1\n",
      "4    1\n",
      "5    1\n",
      "6    1\n",
      "7    1\n",
      "8    1\n",
      "9    1\n",
      "dtype: int64\n"
     ]
    }
   ],
   "source": [
    "from sklearn.linear_model import LogisticRegression\n",
    "from sklearn.model_selection import cross_val_predict\n",
    "\n",
    "lr = LogisticRegression()\n",
    "\n",
    "cols = loans.columns\n",
    "train_cols = cols.drop(\"loan_status\")\n",
    "features = loans[train_cols]\n",
    "target = loans[\"loan_status\"]\n",
    "\n",
    "predictions = cross_val_predict(lr, features, target, cv=3)\n",
    "\n",
    "predictions = pd.Series(predictions)\n",
    "# False positives.\n",
    "\n",
    "fp_filter = (predictions==1)&(loans[\"loan_status\"] ==0)\n",
    "fp = len(predictions[fp_filter])\n",
    "\n",
    "tp_filter = (predictions==1)&(loans[\"loan_status\"] ==1)\n",
    "tp = len(predictions[tp_filter])\n",
    "\n",
    "fn_filter = (predictions==0)&(loans[\"loan_status\"] ==1)\n",
    "fn = len(predictions[fn_filter])\n",
    "\n",
    "tn_filter = (predictions==0)&(loans[\"loan_status\"] ==0)\n",
    "tn = len(predictions[tn_filter])\n",
    "\n",
    "tpr = tp/(tp+fn)\n",
    "fpr = fp/(fp+tn)\n",
    "\n",
    "print( predictions.value_counts(), \"\\n----\")\n",
    "\n",
    "print(\"First 10 prediction result:\", predictions.head(10))"
   ]
  },
  {
   "cell_type": "code",
   "execution_count": 5,
   "metadata": {},
   "outputs": [
    {
     "name": "stdout",
     "output_type": "stream",
     "text": [
      "True Positive Rate:  0.9987920460880877\n",
      "False Positive Rate:  0.9962887363147152\n"
     ]
    }
   ],
   "source": [
    "print(\"True Positive Rate: \", tpr)\n",
    "print(\"False Positive Rate: \", fpr)"
   ]
  },
  {
   "cell_type": "markdown",
   "metadata": {},
   "source": [
    "Our `fpr` and `tpr` are around what we'd expect if the model was predicting all ones as the target classes are imbalanced. \n",
    "\n",
    "Let's get a classifier to correct for imbalanced classes."
   ]
  },
  {
   "cell_type": "code",
   "execution_count": 6,
   "metadata": {},
   "outputs": [
    {
     "name": "stdout",
     "output_type": "stream",
     "text": [
      "True Positive Rate:  0.6647463296784984\n",
      "False Positive Rate:  0.38040452774169603\n"
     ]
    }
   ],
   "source": [
    "from sklearn.linear_model import LogisticRegression\n",
    "from sklearn.model_selection import cross_val_predict\n",
    "\n",
    "lr = LogisticRegression(class_weight='balanced')\n",
    "\n",
    "predictions = cross_val_predict(lr, features, target, cv=3)\n",
    "\n",
    "predictions = pd.Series(predictions)\n",
    "# False positives.\n",
    "\n",
    "fp_filter = (predictions==1)&(loans[\"loan_status\"] ==0)\n",
    "fp = len(predictions[fp_filter])\n",
    "\n",
    "tp_filter = (predictions==1)&(loans[\"loan_status\"] ==1)\n",
    "tp = len(predictions[tp_filter])\n",
    "\n",
    "fn_filter = (predictions==0)&(loans[\"loan_status\"] ==1)\n",
    "fn = len(predictions[fn_filter])\n",
    "\n",
    "tn_filter = (predictions==0)&(loans[\"loan_status\"] ==0)\n",
    "tn = len(predictions[tn_filter])\n",
    "\n",
    "tpr = tp/(tp+fn)\n",
    "fpr = fp/(fp+tn)\n",
    "\n",
    "print(\"True Positive Rate: \", tpr)\n",
    "print(\"False Positive Rate: \", fpr)"
   ]
  },
  {
   "cell_type": "markdown",
   "metadata": {},
   "source": [
    "We significantly improved false positive rate in the last screen by balancing the classes, which reduced true positive rate. Our true positive rate is now around `67%`, and our false positive rate is around `40%`.\n",
    "\n",
    "From a conservative investor's standpoint, it's reassuring that the false positive rate is lower because it means that we'll be able to do a better job at avoiding bad loans than if we funded everything. However, we'd only ever decide to fund 67% of the total loans (true positive rate), so we'd immediately reject a good amount of loans."
   ]
  },
  {
   "cell_type": "markdown",
   "metadata": {},
   "source": [
    "Let's change the `class_weight` parameter from the string \"balanced\" to a dictionary of penalty values manually."
   ]
  },
  {
   "cell_type": "code",
   "execution_count": 7,
   "metadata": {},
   "outputs": [
    {
     "name": "stdout",
     "output_type": "stream",
     "text": [
      "True Positive Rate:  0.2475995787647897\n",
      "False Positive Rate:  0.09352384486917796\n"
     ]
    }
   ],
   "source": [
    "from sklearn.linear_model import LogisticRegression\n",
    "from sklearn.model_selection import cross_val_predict\n",
    "\n",
    "penalty = {\n",
    "    0:10,\n",
    "    1:1\n",
    "}\n",
    "lr = LogisticRegression(class_weight=penalty)\n",
    "\n",
    "predictions = cross_val_predict(lr, features, target, cv=3)\n",
    "\n",
    "predictions = pd.Series(predictions)\n",
    "# False positives.\n",
    "\n",
    "fp_filter = (predictions==1)&(loans[\"loan_status\"] ==0)\n",
    "fp = len(predictions[fp_filter])\n",
    "\n",
    "tp_filter = (predictions==1)&(loans[\"loan_status\"] ==1)\n",
    "tp = len(predictions[tp_filter])\n",
    "\n",
    "fn_filter = (predictions==0)&(loans[\"loan_status\"] ==1)\n",
    "fn = len(predictions[fn_filter])\n",
    "\n",
    "tn_filter = (predictions==0)&(loans[\"loan_status\"] ==0)\n",
    "tn = len(predictions[tn_filter])\n",
    "\n",
    "tpr = tp/(tp+fn)\n",
    "fpr = fp/(fp+tn)\n",
    "\n",
    "print(\"True Positive Rate: \", tpr)\n",
    "print(\"False Positive Rate: \", fpr)"
   ]
  },
  {
   "cell_type": "markdown",
   "metadata": {},
   "source": [
    "It looks like assigning manual penalties lowered the false positive rate to `7%`, and thus lowered our risk.\n",
    "\n",
    "Note that this comes at the expense of true positive rate. While we have fewer false positives, we're also missing opportunities to fund more loans and potentially make more money. Given that we're approaching this as a conservative investor, this strategy makes sense, but it's worth keeping in mind the tradeoffs."
   ]
  },
  {
   "cell_type": "markdown",
   "metadata": {},
   "source": [
    "# Let's try a more complex algorithm, random forest "
   ]
  },
  {
   "cell_type": "code",
   "execution_count": 8,
   "metadata": {},
   "outputs": [
    {
     "name": "stderr",
     "output_type": "stream",
     "text": [
      "c:\\python36\\lib\\site-packages\\sklearn\\cross_validation.py:41: DeprecationWarning: This module was deprecated in version 0.18 in favor of the model_selection module into which all the refactored classes and functions are moved. Also note that the interface of the new CV iterators are different from that of this module. This module will be removed in 0.20.\n",
      "  \"This module will be removed in 0.20.\", DeprecationWarning)\n"
     ]
    },
    {
     "name": "stdout",
     "output_type": "stream",
     "text": [
      "True Positive Rate:  0.9700799107972495\n",
      "False Positive Rate:  0.9181666357394693\n"
     ]
    }
   ],
   "source": [
    "from sklearn.ensemble import RandomForestClassifier\n",
    "from sklearn.cross_validation import cross_val_predict\n",
    "\n",
    "\n",
    "\n",
    "lr = RandomForestClassifier(class_weight=\"balanced\", random_state=1)\n",
    "\n",
    "predictions = cross_val_predict(lr, features, target, cv=3)\n",
    "\n",
    "predictions = pd.Series(predictions)\n",
    "# False positives.\n",
    "\n",
    "fp_filter = (predictions==1)&(loans[\"loan_status\"] ==0)\n",
    "fp = len(predictions[fp_filter])\n",
    "\n",
    "tp_filter = (predictions==1)&(loans[\"loan_status\"] ==1)\n",
    "tp = len(predictions[tp_filter])\n",
    "\n",
    "fn_filter = (predictions==0)&(loans[\"loan_status\"] ==1)\n",
    "fn = len(predictions[fn_filter])\n",
    "\n",
    "tn_filter = (predictions==0)&(loans[\"loan_status\"] ==0)\n",
    "tn = len(predictions[tn_filter])\n",
    "\n",
    "tpr = tp/(tp+fn)\n",
    "fpr = fp/(fp+tn)\n",
    "\n",
    "print(\"True Positive Rate: \", tpr)\n",
    "print(\"False Positive Rate: \", fpr)"
   ]
  },
  {
   "cell_type": "markdown",
   "metadata": {},
   "source": [
    "Unfortunately, using a random forest classifier didn't improve our false positive rate.The model is likely weighting too heavily on the `1` class, and still mostly predicting `1s`. \n",
    "\n",
    "Ultimately, our best model had a false positive rate of `7%`, and a true positive rate of `20%`. For a conservative investor, this means that they make money as long as the interest rate is high enough to offset the losses from `7%` of borrowers defaulting, and that the pool of `20%` of borrowers is large enough to make enough interest money to offset the losses."
   ]
  }
 ],
 "metadata": {
  "kernelspec": {
   "display_name": "Python 3",
   "language": "python",
   "name": "python3"
  },
  "language_info": {
   "codemirror_mode": {
    "name": "ipython",
    "version": 3
   },
   "file_extension": ".py",
   "mimetype": "text/x-python",
   "name": "python",
   "nbconvert_exporter": "python",
   "pygments_lexer": "ipython3",
   "version": "3.6.1"
  }
 },
 "nbformat": 4,
 "nbformat_minor": 2
}
